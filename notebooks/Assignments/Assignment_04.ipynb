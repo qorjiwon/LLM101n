{
  "cells": [
    {
      "metadata": {
        "id": "bbbb1cc93fe3e1c"
      },
      "cell_type": "markdown",
      "source": [
        "# Assignment 4\n",
        "\n",
        "In this assignment, you will refactor the entire code to PyTorch, making it more modular and efficient."
      ],
      "id": "bbbb1cc93fe3e1c"
    },
    {
      "metadata": {
        "id": "fe1e201da9092e12"
      },
      "cell_type": "markdown",
      "source": [
        "## Importing Libraries"
      ],
      "id": "fe1e201da9092e12"
    },
    {
      "metadata": {
        "id": "b9bef55bdd3e6f12"
      },
      "cell_type": "code",
      "source": [
        "import os\n",
        "from dataclasses import dataclass\n",
        "from typing import List, Tuple\n",
        "from sklearn.model_selection import train_test_split\n",
        "from tqdm import tqdm\n",
        "import torch\n",
        "from torch import nn\n",
        "from torch.nn import functional as F\n",
        "from torch.utils.data import Dataset, DataLoader\n",
        "import wandb\n",
        "from utils import load_text, set_seed, configure_device"
      ],
      "id": "b9bef55bdd3e6f12",
      "outputs": [],
      "execution_count": 1
    },
    {
      "metadata": {
        "id": "366f4a5e31b9d092"
      },
      "cell_type": "markdown",
      "source": [
        "## Configuration"
      ],
      "id": "366f4a5e31b9d092"
    },
    {
      "metadata": {
        "id": "64a041bfe9980131"
      },
      "cell_type": "code",
      "source": [
        "@dataclass\n",
        "class MLPConfig:\n",
        "    root_dir: str = os.getcwd() + \"/../../\"\n",
        "    dataset_path: str = \"names.txt\"\n",
        "    device: torch.device = torch.device('cpu')  # Automatic device configuration\n",
        "\n",
        "    # Tokenizer\n",
        "    vocab_size: int = 0  # Set later\n",
        "\n",
        "    # Model\n",
        "    context_size: int = 3\n",
        "    d_embed: int = 8\n",
        "    d_hidden: int = 64\n",
        "\n",
        "    # Training\n",
        "    val_size: float = 0.1\n",
        "    batch_size: int = 32\n",
        "    max_steps: int = 6000  # Max of max_steps = 6421\n",
        "    lr: float = 0.01\n",
        "    val_interval: int = 100\n",
        "    log_interval: int = 100\n",
        "\n",
        "    seed: int = 101\n",
        "\n",
        "config = MLPConfig()"
      ],
      "id": "64a041bfe9980131",
      "outputs": [],
      "execution_count": 2
    },
    {
      "metadata": {
        "id": "b37b1da5eb884f97"
      },
      "cell_type": "markdown",
      "source": [
        "## Reproducibility"
      ],
      "id": "b37b1da5eb884f97"
    },
    {
      "metadata": {
        "colab": {
          "base_uri": "https://localhost:8080/"
        },
        "id": "5aac9ba3a2c94cdd",
        "outputId": "d73fcbdf-4cf8-4f1d-be26-8ebb1a106fdb"
      },
      "cell_type": "code",
      "source": [
        "set_seed(config.seed)"
      ],
      "id": "5aac9ba3a2c94cdd",
      "outputs": [
        {
          "output_type": "stream",
          "name": "stdout",
          "text": [
            "Random seed set to 101\n"
          ]
        }
      ],
      "execution_count": 3
    },
    {
      "metadata": {
        "id": "8046aa4cb3a6469f"
      },
      "cell_type": "markdown",
      "source": [
        "## Device"
      ],
      "id": "8046aa4cb3a6469f"
    },
    {
      "metadata": {
        "colab": {
          "base_uri": "https://localhost:8080/"
        },
        "id": "ec9748db8884490e",
        "outputId": "2033ddad-c2bb-4439-c209-826c34168db7"
      },
      "cell_type": "code",
      "source": [
        "config.device = configure_device()"
      ],
      "id": "ec9748db8884490e",
      "outputs": [
        {
          "output_type": "stream",
          "name": "stdout",
          "text": [
            "Running on cpu\n"
          ]
        }
      ],
      "execution_count": 4
    },
    {
      "metadata": {
        "id": "db4d6ad274a6fbbb"
      },
      "cell_type": "markdown",
      "source": [
        "## Tokenizer"
      ],
      "id": "db4d6ad274a6fbbb"
    },
    {
      "metadata": {
        "id": "e9dbce085edefdc4"
      },
      "cell_type": "code",
      "source": [
        "chars = [chr(i) for i in range(97, 123)]  # all alphabet characters\n",
        "chars.insert(0, \".\")  # Add special token\n",
        "config.vocab_size = len(chars)\n",
        "str2idx = {char: idx for idx, char in enumerate(chars)}\n",
        "idx2str = {idx: char for char, idx in str2idx.items()}"
      ],
      "id": "e9dbce085edefdc4",
      "outputs": [],
      "execution_count": 5
    },
    {
      "metadata": {
        "id": "576b370aea4c1555"
      },
      "cell_type": "markdown",
      "source": [
        "## Dataset"
      ],
      "id": "576b370aea4c1555"
    },
    {
      "metadata": {
        "colab": {
          "base_uri": "https://localhost:8080/"
        },
        "id": "8cc4922d3b541a53",
        "outputId": "6eb674c5-3800-468f-dcea-22ce19470767"
      },
      "cell_type": "code",
      "source": [
        "names = load_text(config.dataset_path).splitlines()"
      ],
      "id": "8cc4922d3b541a53",
      "outputs": [
        {
          "output_type": "stream",
          "name": "stdout",
          "text": [
            "Loaded text data from names.txt (length: 228145 characters).\n"
          ]
        }
      ],
      "execution_count": 6
    },
    {
      "metadata": {
        "id": "31bf63ac06c3b24c"
      },
      "cell_type": "markdown",
      "source": [
        "## Preprocessing"
      ],
      "id": "31bf63ac06c3b24c"
    },
    {
      "metadata": {
        "id": "f91738376b5a8431"
      },
      "cell_type": "code",
      "source": [
        "# Train-Val Split\n",
        "train_names, val_names = train_test_split(names, test_size=config.val_size, random_state=config.seed)"
      ],
      "id": "f91738376b5a8431",
      "outputs": [],
      "execution_count": 7
    },
    {
      "metadata": {
        "colab": {
          "base_uri": "https://localhost:8080/"
        },
        "id": "9f27ec069c3321f8",
        "outputId": "e4a80407-0a3b-4101-ea31-9a5570f4086a"
      },
      "cell_type": "code",
      "source": [
        "print(f\"Train Size: {len(train_names)}\")\n",
        "print(f\"Validation Size: {len(val_names)}\")\n",
        "print(f\"Train Example: {train_names[0]}\")\n",
        "print(f\"Validation Example: {val_names[0]}\")"
      ],
      "id": "9f27ec069c3321f8",
      "outputs": [
        {
          "output_type": "stream",
          "name": "stdout",
          "text": [
            "Train Size: 28829\n",
            "Validation Size: 3204\n",
            "Train Example: keyler\n",
            "Validation Example: jessamae\n"
          ]
        }
      ],
      "execution_count": 8
    },
    {
      "metadata": {
        "id": "44931589173ddd84"
      },
      "cell_type": "code",
      "source": [
        "def prepare_dataset(_names):\n",
        "    _inputs, _targets = [], []\n",
        "\n",
        "    for name in _names:\n",
        "        context = [0] * config.context_size\n",
        "\n",
        "        for char in name + \".\":\n",
        "            idx = str2idx[char]\n",
        "            _inputs.append(context)\n",
        "            _targets.append(idx)\n",
        "            context = context[1:] + [idx]  # Shift the context by 1 character\n",
        "\n",
        "    _inputs = torch.tensor(_inputs)\n",
        "    _targets = torch.tensor(_targets)\n",
        "\n",
        "    return _inputs, _targets"
      ],
      "id": "44931589173ddd84",
      "outputs": [],
      "execution_count": 9
    },
    {
      "metadata": {
        "id": "27772dc3e0015a64"
      },
      "cell_type": "markdown",
      "source": [
        "### Task 1: PyTorch DataLoader\n",
        "\n",
        "We have been using plain Python lists to and then converted them to PyTorch tensors. This is not efficient since it is loading the entire dataset into memory.\n",
        "\n",
        "PyTorch provides `Dataset` and `DataLoader` class to load the data in memory on the fly. [PyTorch Documentation](https://pytorch.org/tutorials/beginner/basics/data_tutorial.html)\n",
        "\n",
        "Refactor the `prepare_dataset` function into a PyTorch `Dataset` class and use the `DataLoader` to efficiently load the data in batches."
      ],
      "id": "27772dc3e0015a64"
    },
    {
      "metadata": {
        "id": "b550956d3a003a7e"
      },
      "cell_type": "code",
      "source": [
        "# Dataset\n",
        "class NamesDataset(Dataset):\n",
        "    ################################################################################\n",
        "    # TODO:                                                                        #\n",
        "    # PyTorch Dataset requires 3 methods:                                          #\n",
        "    # __init__ method to initialize the dataset                                    #\n",
        "    # __len__ method to return the size of the dataset                             #\n",
        "    # __getitem__ method to return a sample from the dataset                       #\n",
        "    ################################################################################\n",
        "    # *****START OF YOUR CODE (DO NOT DELETE/MODIFY THIS LINE)*****\n",
        "    def __init__(self, _names: List[str], context_size: int):\n",
        "        \"\"\"\n",
        "        Initialize the dataset\n",
        "\n",
        "        Args:\n",
        "            _names (List[str]): List of names\n",
        "            context_size (int): Context size of the model\n",
        "        \"\"\"\n",
        "        self._inputs, self._targets = [], []\n",
        "        for name in _names:\n",
        "            context = [0] * context_size\n",
        "            for char in name + \".\":\n",
        "                idx = str2idx[char]\n",
        "                self._inputs.append(context)\n",
        "                self._targets.append(idx)\n",
        "                context = context[1:] + [idx]\n",
        "        self._inputs = torch.tensor(self._inputs)\n",
        "        self._targets = torch.tensor(self._targets)\n",
        "\n",
        "    def __len__(self) -> int:\n",
        "        \"\"\"\n",
        "        Return the number of samples in the dataset\n",
        "\n",
        "        Returns:\n",
        "            (int): Number of samples\n",
        "        \"\"\"\n",
        "        length = len(self._inputs)\n",
        "\n",
        "        return length\n",
        "\n",
        "    def __getitem__(self, idx: int) -> Tuple[torch.Tensor, torch.Tensor]:\n",
        "        \"\"\"\n",
        "        Return a sample from the dataset\n",
        "\n",
        "        Args:\n",
        "            idx (int): Index of the sample\n",
        "\n",
        "        Returns:\n",
        "            Tuple[torch.Tensor, torch.Tensor]: Input and target tensors\n",
        "        \"\"\"\n",
        "        input_ids = self._inputs[idx]\n",
        "        target_id = self._targets[idx]\n",
        "        return input_ids, target_id\n",
        "    # *****END OF YOUR CODE (DO NOT DELETE/MODIFY THIS LINE)*****"
      ],
      "id": "b550956d3a003a7e",
      "outputs": [],
      "execution_count": 10
    },
    {
      "metadata": {
        "id": "352be875ddc0fa7a"
      },
      "cell_type": "code",
      "source": [
        "# Initialize the dataset\n",
        "train_dataset = NamesDataset(train_names, config.context_size)\n",
        "val_dataset = NamesDataset(val_names, config.context_size)"
      ],
      "id": "352be875ddc0fa7a",
      "outputs": [],
      "execution_count": 11
    },
    {
      "metadata": {
        "colab": {
          "base_uri": "https://localhost:8080/"
        },
        "id": "27812caaf7fd7ea6",
        "outputId": "fcc41a14-a66d-446a-e534-ec796132da24"
      },
      "cell_type": "code",
      "source": [
        "print(f\"Number of Train Samples: {len(train_dataset)}\")\n",
        "print(f\"Number of Validation Samples: {len(val_dataset)}\")\n",
        "print(f\"First train (input, target): {train_dataset[0]}\")\n",
        "print(f\"First validation (input, target): {val_dataset[0]}\")\n",
        "print(f\"Second train (input, target): {train_dataset[1]}\")\n",
        "print(f\"Second validation (input, target): {val_dataset[1]}\")"
      ],
      "id": "27812caaf7fd7ea6",
      "outputs": [
        {
          "output_type": "stream",
          "name": "stdout",
          "text": [
            "Number of Train Samples: 205456\n",
            "Number of Validation Samples: 22690\n",
            "First train (input, target): (tensor([0, 0, 0]), tensor(11))\n",
            "First validation (input, target): (tensor([0, 0, 0]), tensor(10))\n",
            "Second train (input, target): (tensor([ 0,  0, 11]), tensor(5))\n",
            "Second validation (input, target): (tensor([ 0,  0, 10]), tensor(5))\n"
          ]
        }
      ],
      "execution_count": 12
    },
    {
      "metadata": {
        "id": "a9e04718940ac55d"
      },
      "cell_type": "code",
      "source": [
        "# DataLoader\n",
        "################################################################################\n",
        "# TODO:                                                                        #\n",
        "# Initialize the DataLoader for the training and validation datasets.          #\n",
        "################################################################################\n",
        "# *****START OF YOUR CODE (DO NOT DELETE/MODIFY THIS LINE)*****\n",
        "train_loader = DataLoader(train_dataset, batch_size=config.batch_size, shuffle=True)\n",
        "val_loader = DataLoader(val_dataset, batch_size=config.batch_size, shuffle=True)\n",
        "# *****END OF YOUR CODE (DO NOT DELETE/MODIFY THIS LINE)*****"
      ],
      "id": "a9e04718940ac55d",
      "outputs": [],
      "execution_count": 13
    },
    {
      "metadata": {
        "colab": {
          "base_uri": "https://localhost:8080/"
        },
        "id": "13763508cb10bf45",
        "outputId": "d14041a1-f4bd-4121-938a-fb5fc51cb4e4"
      },
      "cell_type": "code",
      "source": [
        "# Example batch\n",
        "_x, _y = next(iter(train_loader))\n",
        "print(f\"Input Shape: {_x.shape}\")   # (batch_size, context_size)\n",
        "print(f\"Target Shape: {_y.shape}\")  # (batch_size)\n",
        "print(f\"Input: {_x[0]}\")\n",
        "print(f\"Target: {_y[0]}\")"
      ],
      "id": "13763508cb10bf45",
      "outputs": [
        {
          "output_type": "stream",
          "name": "stdout",
          "text": [
            "Input Shape: torch.Size([32, 3])\n",
            "Target Shape: torch.Size([32])\n",
            "Input: tensor([14,  1, 18])\n",
            "Target: 15\n"
          ]
        }
      ],
      "execution_count": 14
    },
    {
      "metadata": {
        "id": "77b0001776a8667d"
      },
      "cell_type": "markdown",
      "source": [
        "## Model"
      ],
      "id": "77b0001776a8667d"
    },
    {
      "metadata": {
        "id": "3035259e2763490c"
      },
      "cell_type": "markdown",
      "source": [
        "### Task 2: MLP Model\n",
        "\n",
        "Initialize the weights of the model using the `Kaiming` initialization.\n",
        "\n",
        "What are other activation functions that can be used instead of `tanh`? What are the advantages and disadvantages? Use different activation functions and compare the results.\n"
      ],
      "id": "3035259e2763490c"
    },
    {
      "metadata": {
        "id": "3fbb0e90bc505757"
      },
      "cell_type": "code",
      "source": [
        "class MLP(nn.Module):\n",
        "    ################################################################################\n",
        "    # TODO:                                                                        #\n",
        "    # Define the __init__ and forward methods for the MLP model.                   #\n",
        "    # Use the Kaiming initialization for the weights.                              #\n",
        "    # Use other activation functions instead of tanh and compare the results.      #\n",
        "    ################################################################################\n",
        "    # *****START OF YOUR CODE (DO NOT DELETE/MODIFY THIS LINE)*****\n",
        "    def __init__(self, vocab_size, context_size, d_embed, d_hidden):\n",
        "        super().__init__()\n",
        "        self.embedding = nn.Embedding(vocab_size, d_embed)\n",
        "        self.fc1 = nn.Linear(d_embed * context_size, d_hidden)\n",
        "        self.fc2 = nn.Linear(d_hidden, vocab_size)\n",
        "        nn.init.kaiming_uniform_(self.fc1.weight, nonlinearity='relu')\n",
        "        nn.init.kaiming_uniform_(self.fc2.weight, nonlinearity='linear')\n",
        "\n",
        "    def forward(self, x):\n",
        "        x = self.embedding(x)\n",
        "        x = x.view(x.size(0), -1)\n",
        "        h = F.relu(self.fc1(x))\n",
        "        logits = self.fc2(h)\n",
        "        return logits\n",
        "    # *****END OF YOUR CODE (DO NOT DELETE/MODIFY THIS LINE)*****"
      ],
      "id": "3fbb0e90bc505757",
      "outputs": [],
      "execution_count": 15
    },
    {
      "metadata": {
        "colab": {
          "base_uri": "https://localhost:8080/"
        },
        "id": "78374911f6424dbe",
        "outputId": "cf869370-44b4-4510-806f-dc91bcd9a3e9"
      },
      "cell_type": "code",
      "source": [
        "# Initialize the model\n",
        "mlp = MLP(config.vocab_size, config.context_size, config.d_embed, config.d_hidden)\n",
        "mlp.to(config.device) # Move the model to the device\n",
        "print(mlp)\n",
        "print(\"Number of parameters:\", sum(p.numel() for p in mlp.parameters()))"
      ],
      "id": "78374911f6424dbe",
      "outputs": [
        {
          "output_type": "stream",
          "name": "stdout",
          "text": [
            "MLP(\n",
            "  (embedding): Embedding(27, 8)\n",
            "  (fc1): Linear(in_features=24, out_features=64, bias=True)\n",
            "  (fc2): Linear(in_features=64, out_features=27, bias=True)\n",
            ")\n",
            "Number of parameters: 3571\n"
          ]
        }
      ],
      "execution_count": 16
    },
    {
      "metadata": {
        "id": "62d6bd917a11788c"
      },
      "cell_type": "markdown",
      "source": [
        "## Training"
      ],
      "id": "62d6bd917a11788c"
    },
    {
      "metadata": {
        "id": "4357b5eacdb2bb5a"
      },
      "cell_type": "markdown",
      "source": [
        "### Task 3: Wandb Integration\n",
        "\n",
        "[Weights and Biases](https://wandb.ai/site) is a platform to track your machine learning experiments. It is very useful to log the hyperparameters, metrics, and weights of the model. (We can't use matplotlib every time to visualize the results)\n",
        "\n",
        "Create a free account on Wandb. Initialize the wandb run and log the hyperparameters and metrics.\n",
        "\n",
        "**How to set up WANDB API KEY**\n",
        "- Create an account on Wandb\n",
        "- Go to `wandb.ai` -> `Settings` -> `API Keys` -> `Copy API Key`\n",
        "- Set the API key as an environment variable `WANDB_API_KEY`\n",
        "    - What is an environment variable? How to set it? Google `.env`\n",
        "\n",
        "Note: Do not hardcode the API key in the script. Use environment variables.\n",
        "\n"
      ],
      "id": "4357b5eacdb2bb5a"
    },
    {
      "metadata": {
        "colab": {
          "base_uri": "https://localhost:8080/",
          "height": 328
        },
        "id": "4c5c45d3303decfb",
        "outputId": "4bf03c03-801d-422a-bdc1-cd5726d4b2e7"
      },
      "cell_type": "code",
      "source": [
        "wandb.login(key=os.environ.get(\"WANDB_API_KEY\"))\n",
        "wandb.init(\n",
        "    project=\"Assignment-04\",\n",
        "    config={\n",
        "        \"d_embed\": config.d_embed,\n",
        "        \"d_hidden\": config.d_hidden,\n",
        "        \"lr\": config.lr,\n",
        "    },\n",
        "    dir=config.root_dir\n",
        ")"
      ],
      "id": "4c5c45d3303decfb",
      "outputs": [
        {
          "output_type": "stream",
          "name": "stderr",
          "text": [
            "\u001b[34m\u001b[1mwandb\u001b[0m: Using wandb-core as the SDK backend.  Please refer to https://wandb.me/wandb-core for more information.\n"
          ]
        },
        {
          "output_type": "display_data",
          "data": {
            "text/plain": [
              "<IPython.core.display.Javascript object>"
            ],
            "application/javascript": [
              "\n",
              "        window._wandbApiKey = new Promise((resolve, reject) => {\n",
              "            function loadScript(url) {\n",
              "            return new Promise(function(resolve, reject) {\n",
              "                let newScript = document.createElement(\"script\");\n",
              "                newScript.onerror = reject;\n",
              "                newScript.onload = resolve;\n",
              "                document.body.appendChild(newScript);\n",
              "                newScript.src = url;\n",
              "            });\n",
              "            }\n",
              "            loadScript(\"https://cdn.jsdelivr.net/npm/postmate/build/postmate.min.js\").then(() => {\n",
              "            const iframe = document.createElement('iframe')\n",
              "            iframe.style.cssText = \"width:0;height:0;border:none\"\n",
              "            document.body.appendChild(iframe)\n",
              "            const handshake = new Postmate({\n",
              "                container: iframe,\n",
              "                url: 'https://wandb.ai/authorize'\n",
              "            });\n",
              "            const timeout = setTimeout(() => reject(\"Couldn't auto authenticate\"), 5000)\n",
              "            handshake.then(function(child) {\n",
              "                child.on('authorize', data => {\n",
              "                    clearTimeout(timeout)\n",
              "                    resolve(data)\n",
              "                });\n",
              "            });\n",
              "            })\n",
              "        });\n",
              "    "
            ]
          },
          "metadata": {}
        },
        {
          "output_type": "stream",
          "name": "stderr",
          "text": [
            "\u001b[34m\u001b[1mwandb\u001b[0m: Logging into wandb.ai. (Learn how to deploy a W&B server locally: https://wandb.me/wandb-server)\n",
            "\u001b[34m\u001b[1mwandb\u001b[0m: You can find your API key in your browser here: https://wandb.ai/authorize\n",
            "wandb: Paste an API key from your profile and hit enter:"
          ]
        },
        {
          "name": "stdout",
          "output_type": "stream",
          "text": [
            " ··········\n"
          ]
        },
        {
          "output_type": "stream",
          "name": "stderr",
          "text": [
            "\u001b[34m\u001b[1mwandb\u001b[0m: \u001b[33mWARNING\u001b[0m If you're specifying your api key in code, ensure this code is not shared publicly.\n",
            "\u001b[34m\u001b[1mwandb\u001b[0m: \u001b[33mWARNING\u001b[0m Consider setting the WANDB_API_KEY environment variable, or running `wandb login` from the command line.\n",
            "\u001b[34m\u001b[1mwandb\u001b[0m: No netrc file found, creating one.\n",
            "\u001b[34m\u001b[1mwandb\u001b[0m: Appending key for api.wandb.ai to your netrc file: /root/.netrc\n",
            "\u001b[34m\u001b[1mwandb\u001b[0m: Currently logged in as: \u001b[33mqorjiwon\u001b[0m (\u001b[33mqorjiwon-kyung-hee-university\u001b[0m) to \u001b[32mhttps://api.wandb.ai\u001b[0m. Use \u001b[1m`wandb login --relogin`\u001b[0m to force relogin\n"
          ]
        },
        {
          "output_type": "display_data",
          "data": {
            "text/plain": [
              "<IPython.core.display.HTML object>"
            ],
            "text/html": [
              "Tracking run with wandb version 0.19.9"
            ]
          },
          "metadata": {}
        },
        {
          "output_type": "display_data",
          "data": {
            "text/plain": [
              "<IPython.core.display.HTML object>"
            ],
            "text/html": [
              "Run data is saved locally in <code>/content/../../wandb/run-20250410_103016-kxpmtmra</code>"
            ]
          },
          "metadata": {}
        },
        {
          "output_type": "display_data",
          "data": {
            "text/plain": [
              "<IPython.core.display.HTML object>"
            ],
            "text/html": [
              "Syncing run <strong><a href='https://wandb.ai/qorjiwon-kyung-hee-university/Assignment-04/runs/kxpmtmra' target=\"_blank\">polished-surf-1</a></strong> to <a href='https://wandb.ai/qorjiwon-kyung-hee-university/Assignment-04' target=\"_blank\">Weights & Biases</a> (<a href='https://wandb.me/developer-guide' target=\"_blank\">docs</a>)<br>"
            ]
          },
          "metadata": {}
        },
        {
          "output_type": "display_data",
          "data": {
            "text/plain": [
              "<IPython.core.display.HTML object>"
            ],
            "text/html": [
              " View project at <a href='https://wandb.ai/qorjiwon-kyung-hee-university/Assignment-04' target=\"_blank\">https://wandb.ai/qorjiwon-kyung-hee-university/Assignment-04</a>"
            ]
          },
          "metadata": {}
        },
        {
          "output_type": "display_data",
          "data": {
            "text/plain": [
              "<IPython.core.display.HTML object>"
            ],
            "text/html": [
              " View run at <a href='https://wandb.ai/qorjiwon-kyung-hee-university/Assignment-04/runs/kxpmtmra' target=\"_blank\">https://wandb.ai/qorjiwon-kyung-hee-university/Assignment-04/runs/kxpmtmra</a>"
            ]
          },
          "metadata": {}
        },
        {
          "output_type": "execute_result",
          "data": {
            "text/html": [
              "<button onClick=\"this.nextSibling.style.display='block';this.style.display='none';\">Display W&B run</button><iframe src='https://wandb.ai/qorjiwon-kyung-hee-university/Assignment-04/runs/kxpmtmra?jupyter=true' style='border:none;width:100%;height:420px;display:none;'></iframe>"
            ],
            "text/plain": [
              "<wandb.sdk.wandb_run.Run at 0x7c9c7309b5d0>"
            ]
          },
          "metadata": {},
          "execution_count": 17
        }
      ],
      "execution_count": 17
    },
    {
      "metadata": {
        "id": "25a58f16a9e13134"
      },
      "cell_type": "markdown",
      "source": [
        "### Task 4: Training\n",
        "\n",
        "Train the model. Change the hyperparameters and configurations. Log the results and analyze it."
      ],
      "id": "25a58f16a9e13134"
    },
    {
      "metadata": {
        "id": "c0dd7f1c2c2b366f"
      },
      "cell_type": "code",
      "source": [
        "def train(\n",
        "        model: nn.Module,\n",
        "        train_loader: DataLoader,\n",
        "        val_loader: DataLoader,\n",
        "        max_steps: int,\n",
        "        lr: float,\n",
        "        val_interval: int,\n",
        "        log_interval: int,\n",
        "        device: torch.device,\n",
        "):\n",
        "    \"\"\"\n",
        "    Train the model for a fixed number of steps.\n",
        "\n",
        "    Args:\n",
        "        model (nn.Module): The model to train.\n",
        "        train_loader (DataLoader): DataLoader for the training data.\n",
        "        val_loader (DataLoader): DataLoader for the validation data.\n",
        "        max_steps (int): Maximum number of steps to train.\n",
        "        lr (float): Learning rate.\n",
        "        val_interval (int): Interval for validation.\n",
        "        log_interval (int): Interval for logging.\n",
        "        device (torch.device): Device to run the model on.\n",
        "    \"\"\"\n",
        "    wandb.watch(model, log=\"all\", log_freq=log_interval)\n",
        "    optimizer = torch.optim.SGD(model.parameters(), lr=lr)\n",
        "    progress_bar = tqdm(enumerate(train_loader, start=1), total=max_steps, desc=\"Training\")\n",
        "    running_loss = 0.0\n",
        "\n",
        "    for step, (train_inputs, train_targets) in progress_bar:\n",
        "        if step > max_steps:\n",
        "            break\n",
        "        model.train()\n",
        "        train_inputs, train_targets = train_inputs.to(device), train_targets.to(device)\n",
        "        optimizer.zero_grad()\n",
        "        logits = model(train_inputs)\n",
        "        loss = F.cross_entropy(logits, train_targets)\n",
        "        loss.backward()\n",
        "        optimizer.step()\n",
        "        running_loss += loss.item()\n",
        "        progress_bar.set_postfix(loss=f\"{running_loss / step:.4f}\")\n",
        "\n",
        "        if step % val_interval == 0:\n",
        "            model.eval()\n",
        "            val_loss = 0.0\n",
        "            total_samples = 0\n",
        "            with torch.no_grad():\n",
        "                for val_inputs, val_targets in val_loader:\n",
        "                    val_inputs, val_targets = val_inputs.to(device), val_targets.to(device)\n",
        "                    val_logits = model(val_inputs)\n",
        "                    batch_loss = F.cross_entropy(val_logits, val_targets)\n",
        "                    val_loss += batch_loss.item() * val_inputs.size(0)\n",
        "                    total_samples += val_inputs.size(0)\n",
        "            wandb.log({\"Val Loss\": val_loss / total_samples}, step=step)\n",
        "\n",
        "        if step % log_interval == 0:\n",
        "            wandb.log({\"Train Loss\": running_loss / step}, step=step)\n",
        "\n",
        "    progress_bar.close()\n",
        "    wandb.finish()"
      ],
      "id": "c0dd7f1c2c2b366f",
      "outputs": [],
      "execution_count": 18
    },
    {
      "metadata": {
        "id": "1fd22ec935ba3f10"
      },
      "cell_type": "markdown",
      "source": [
        "Note: Unfortunatley PyTorch does not support infinite DataLoader. The train will stop when it reaches the end of the DataLoader. (max_steps=6421)"
      ],
      "id": "1fd22ec935ba3f10"
    },
    {
      "metadata": {
        "colab": {
          "base_uri": "https://localhost:8080/",
          "height": 381
        },
        "id": "efed6ca46233328d",
        "outputId": "c6e79900-bbda-4c8b-d294-8a157f5e5886"
      },
      "cell_type": "code",
      "source": [
        "train(\n",
        "    model=mlp,\n",
        "    train_loader=train_loader,\n",
        "    val_loader=val_loader,\n",
        "    max_steps=config.max_steps,\n",
        "    lr=config.lr,\n",
        "    val_interval=config.val_interval,\n",
        "    log_interval=config.log_interval,\n",
        "    device=config.device\n",
        ")"
      ],
      "id": "efed6ca46233328d",
      "outputs": [
        {
          "output_type": "stream",
          "name": "stderr",
          "text": [
            "Training: 100%|██████████| 6000/6000 [00:43<00:00, 136.83it/s, loss=2.5920]\n"
          ]
        },
        {
          "output_type": "display_data",
          "data": {
            "text/plain": [
              "<IPython.core.display.HTML object>"
            ],
            "text/html": []
          },
          "metadata": {}
        },
        {
          "output_type": "display_data",
          "data": {
            "text/plain": [
              "<IPython.core.display.HTML object>"
            ],
            "text/html": [
              "<br>    <style><br>        .wandb-row {<br>            display: flex;<br>            flex-direction: row;<br>            flex-wrap: wrap;<br>            justify-content: flex-start;<br>            width: 100%;<br>        }<br>        .wandb-col {<br>            display: flex;<br>            flex-direction: column;<br>            flex-basis: 100%;<br>            flex: 1;<br>            padding: 10px;<br>        }<br>    </style><br><div class=\"wandb-row\"><div class=\"wandb-col\"><h3>Run history:</h3><br/><table class=\"wandb\"><tr><td>Train Loss</td><td>█▆▆▅▄▄▄▃▃▃▃▃▃▂▂▂▂▂▂▂▂▂▂▂▂▂▁▁▁▁▁▁▁▁▁▁▁▁▁▁</td></tr><tr><td>Val Loss</td><td>█▆▅▅▄▄▄▃▃▃▃▃▃▂▂▂▂▂▂▂▂▂▂▂▂▂▂▂▂▁▁▁▁▁▁▁▁▁▁▁</td></tr></table><br/></div><div class=\"wandb-col\"><h3>Run summary:</h3><br/><table class=\"wandb\"><tr><td>Train Loss</td><td>2.59205</td></tr><tr><td>Val Loss</td><td>2.45502</td></tr></table><br/></div></div>"
            ]
          },
          "metadata": {}
        },
        {
          "output_type": "display_data",
          "data": {
            "text/plain": [
              "<IPython.core.display.HTML object>"
            ],
            "text/html": [
              " View run <strong style=\"color:#cdcd00\">polished-surf-1</strong> at: <a href='https://wandb.ai/qorjiwon-kyung-hee-university/Assignment-04/runs/kxpmtmra' target=\"_blank\">https://wandb.ai/qorjiwon-kyung-hee-university/Assignment-04/runs/kxpmtmra</a><br> View project at: <a href='https://wandb.ai/qorjiwon-kyung-hee-university/Assignment-04' target=\"_blank\">https://wandb.ai/qorjiwon-kyung-hee-university/Assignment-04</a><br>Synced 5 W&B file(s), 0 media file(s), 0 artifact file(s) and 0 other file(s)"
            ]
          },
          "metadata": {}
        },
        {
          "output_type": "display_data",
          "data": {
            "text/plain": [
              "<IPython.core.display.HTML object>"
            ],
            "text/html": [
              "Find logs at: <code>./../../wandb/run-20250410_103016-kxpmtmra/logs</code>"
            ]
          },
          "metadata": {}
        }
      ],
      "execution_count": 19
    },
    {
      "metadata": {
        "id": "73b18f523de26ce3"
      },
      "cell_type": "code",
      "source": [
        "################################################################################\n",
        "# TODO:                                                                        #\n",
        "# Analyze the results                                                          #\n",
        "# What hyperparameters worked well? What activation did you use? etc.          #\n",
        "################################################################################\n",
        "# *****START OF YOUR CODE (DO NOT DELETE/MODIFY THIS LINE)*****\n",
        "max_steps: int\n",
        "lr: float\n",
        "val_interval: int\n",
        "log_interval: int\n",
        "# *****END OF YOUR CODE (DO NOT DELETE/MODIFY THIS LINE)*****"
      ],
      "id": "73b18f523de26ce3",
      "outputs": [],
      "execution_count": 20
    },
    {
      "metadata": {
        "id": "af0c069cfb0e2b6f"
      },
      "cell_type": "markdown",
      "source": [
        "## Inference"
      ],
      "id": "af0c069cfb0e2b6f"
    },
    {
      "metadata": {
        "id": "18b3ab05935f1d51"
      },
      "cell_type": "code",
      "source": [
        "def generate_name(model: nn.Module, context_size: int, decoder: dict, end_id: int, device: torch.device) -> str:\n",
        "    \"\"\"\n",
        "    Generate a name using the model.\n",
        "\n",
        "    Args:\n",
        "        model (nn.Module): Model to generate the name.\n",
        "        context_size (int): Context size of the model.\n",
        "        decoder (dict): Decoder dictionary to convert indices to characters.\n",
        "        end_id (int): End token id.\n",
        "        device (torch.device): Device to run the model on\n",
        "\n",
        "    Returns:\n",
        "        (str): Generated name\n",
        "    \"\"\"\n",
        "    new_name = []\n",
        "    context = [end_id] * context_size\n",
        "\n",
        "    while True:\n",
        "        x = torch.tensor(context).unsqueeze(0).to(device)\n",
        "        logits = model(x)\n",
        "        probs = F.softmax(logits, dim=-1)\n",
        "        idx = torch.multinomial(probs, num_samples=1).item()\n",
        "        new_name.append(decoder[idx])\n",
        "        context = context[1:] + [idx]\n",
        "        if idx == end_id:\n",
        "            break\n",
        "\n",
        "    return \"\".join(new_name)"
      ],
      "id": "18b3ab05935f1d51",
      "outputs": [],
      "execution_count": 21
    },
    {
      "metadata": {
        "colab": {
          "base_uri": "https://localhost:8080/"
        },
        "id": "d77d393036879fe2",
        "outputId": "37482089-2bca-4486-9e0e-53e106b256ea"
      },
      "cell_type": "code",
      "source": [
        "for _ in range(5):\n",
        "    print(generate_name(\n",
        "        model=mlp,\n",
        "        context_size=config.context_size,\n",
        "        decoder=idx2str,\n",
        "        end_id=str2idx[\".\"],\n",
        "        device=config.device\n",
        "    ))"
      ],
      "id": "d77d393036879fe2",
      "outputs": [
        {
          "output_type": "stream",
          "name": "stdout",
          "text": [
            "btley.\n",
            "jenirlihenssie.\n",
            "amirer.\n",
            "jeliey.\n",
            "rudamhemim.\n"
          ]
        }
      ],
      "execution_count": 22
    }
  ],
  "metadata": {
    "kernelspec": {
      "display_name": "Python 3",
      "language": "python",
      "name": "python3"
    },
    "language_info": {
      "codemirror_mode": {
        "name": "ipython",
        "version": 2
      },
      "file_extension": ".py",
      "mimetype": "text/x-python",
      "name": "python",
      "nbconvert_exporter": "python",
      "pygments_lexer": "ipython2",
      "version": "2.7.6"
    },
    "colab": {
      "provenance": []
    }
  },
  "nbformat": 4,
  "nbformat_minor": 5
}