{
  "cells": [
    {
      "metadata": {
        "id": "1d8158dfddb2ac72"
      },
      "cell_type": "markdown",
      "source": [
        "# Assignment 3\n",
        "\n",
        "In this assignment, you will refactor the code from the lecture by...\n",
        "1. Adding a train-validation split.\n",
        "2. Using `nn.Module` for defining the model.\n",
        "3. Implementing the training loop."
      ],
      "id": "1d8158dfddb2ac72"
    },
    {
      "metadata": {
        "id": "e74cf4f768c1edcc"
      },
      "cell_type": "markdown",
      "source": [
        "## Importing Libraries"
      ],
      "id": "e74cf4f768c1edcc"
    },
    {
      "cell_type": "code",
      "id": "initial_id",
      "metadata": {
        "collapsed": true,
        "id": "initial_id"
      },
      "source": [
        "import os\n",
        "import matplotlib.pyplot as plt\n",
        "from dataclasses import dataclass\n",
        "from typing import Tuple\n",
        "import torch\n",
        "from torch import nn\n",
        "from torch.nn import functional as F\n",
        "from utils import load_text, set_seed, configure_device\n",
        "%matplotlib inline"
      ],
      "outputs": [],
      "execution_count": 1
    },
    {
      "metadata": {
        "id": "2cb2cbcb0169f77d"
      },
      "cell_type": "markdown",
      "source": [
        "## Configuration"
      ],
      "id": "2cb2cbcb0169f77d"
    },
    {
      "metadata": {
        "id": "3f8bfe28c1af6b7"
      },
      "cell_type": "markdown",
      "source": [
        "**Note:** If you do not have a GPU, decrease the `max_steps`"
      ],
      "id": "3f8bfe28c1af6b7"
    },
    {
      "metadata": {
        "id": "f87ea90a462f04bf"
      },
      "cell_type": "code",
      "source": [
        "@dataclass\n",
        "class MLPConfig:\n",
        "    root_dir: str = os.getcwd() + \"/../../\"\n",
        "    dataset_path: str = \"names.txt\"\n",
        "    device: torch.device = torch.device('cpu')  # Automatic device configuration\n",
        "\n",
        "    # Tokenizer\n",
        "    vocab_size: int = 0  # Set later\n",
        "\n",
        "    # Model\n",
        "    context_size: int = 3\n",
        "    d_embed: int = 16\n",
        "    d_hidden: int = 64\n",
        "\n",
        "    # Training\n",
        "    val_size: float = 0.1\n",
        "    batch_size: int = 32\n",
        "    max_steps: int = 10000\n",
        "    lr: float = 2e-3\n",
        "    val_interval: int = 1000\n",
        "\n",
        "    seed: int = 101\n",
        "\n",
        "config = MLPConfig()"
      ],
      "id": "f87ea90a462f04bf",
      "outputs": [],
      "execution_count": 7
    },
    {
      "metadata": {
        "id": "21388a355d7684a2"
      },
      "cell_type": "markdown",
      "source": [
        "## Reproducibility"
      ],
      "id": "21388a355d7684a2"
    },
    {
      "metadata": {
        "id": "c978c462c20bd1aa",
        "outputId": "b36b7faa-9939-47f5-f7cc-28e61677823c",
        "colab": {
          "base_uri": "https://localhost:8080/"
        }
      },
      "cell_type": "code",
      "source": [
        "set_seed(config.seed)\n",
        "generator = torch.Generator().manual_seed(config.seed)"
      ],
      "id": "c978c462c20bd1aa",
      "outputs": [
        {
          "output_type": "stream",
          "name": "stdout",
          "text": [
            "Random seed set to 101\n"
          ]
        }
      ],
      "execution_count": 8
    },
    {
      "metadata": {
        "id": "7de6979c114cc847"
      },
      "cell_type": "markdown",
      "source": [
        "## Device"
      ],
      "id": "7de6979c114cc847"
    },
    {
      "metadata": {
        "id": "a9ca76989a82c131",
        "outputId": "005cc3d9-6381-4e15-c26e-cbbf67e4ff6e",
        "colab": {
          "base_uri": "https://localhost:8080/"
        }
      },
      "cell_type": "code",
      "source": [
        "config.device = configure_device()"
      ],
      "id": "a9ca76989a82c131",
      "outputs": [
        {
          "output_type": "stream",
          "name": "stdout",
          "text": [
            "Running on cpu\n"
          ]
        }
      ],
      "execution_count": 9
    },
    {
      "metadata": {
        "id": "fd06cd53a8099029"
      },
      "cell_type": "markdown",
      "source": [
        "## Tokenizer"
      ],
      "id": "fd06cd53a8099029"
    },
    {
      "metadata": {
        "id": "3ec4919298103e29"
      },
      "cell_type": "code",
      "source": [
        "chars = [chr(i) for i in range(97, 123)]  # all alphabet characters\n",
        "chars.insert(0, \".\")  # Add special token\n",
        "config.vocab_size = len(chars)\n",
        "str2idx = {char: idx for idx, char in enumerate(chars)}\n",
        "idx2str = {idx: char for char, idx in str2idx.items()}"
      ],
      "id": "3ec4919298103e29",
      "outputs": [],
      "execution_count": 10
    },
    {
      "metadata": {
        "id": "143169f16782a55f"
      },
      "cell_type": "markdown",
      "source": [
        "## Dataset"
      ],
      "id": "143169f16782a55f"
    },
    {
      "metadata": {
        "id": "e8acd205ab399fed",
        "outputId": "71657088-fed9-4d9e-8f02-5e43b671992d",
        "colab": {
          "base_uri": "https://localhost:8080/"
        }
      },
      "cell_type": "code",
      "source": [
        "names = load_text(config.dataset_path).splitlines()"
      ],
      "id": "e8acd205ab399fed",
      "outputs": [
        {
          "output_type": "stream",
          "name": "stdout",
          "text": [
            "Loaded text data from names.txt (length: 228145 characters).\n"
          ]
        }
      ],
      "execution_count": 11
    },
    {
      "metadata": {
        "id": "908b723455adc6b5"
      },
      "cell_type": "markdown",
      "source": [
        "## Preprocessing"
      ],
      "id": "908b723455adc6b5"
    },
    {
      "metadata": {
        "id": "a8ce74000c6911e0"
      },
      "cell_type": "markdown",
      "source": [
        "### Task 1: Train-Validation split\n",
        "\n",
        "Using all the data for training leads to overfitting.\n",
        "\n",
        "Implement a function to split the text into training and validation sets."
      ],
      "id": "a8ce74000c6911e0"
    },
    {
      "metadata": {
        "id": "7d442ad0a2d2a836"
      },
      "cell_type": "code",
      "source": [
        "def split_names(_names: str, val_size: float) -> Tuple[str, str]:\n",
        "    \"\"\"\n",
        "    Split text into training and validation sets.\n",
        "\n",
        "    Args:\n",
        "        _names (str): The data to split.\n",
        "        val_size (float): Size of the validation set.\n",
        "\n",
        "    Returns:\n",
        "        Tuple[str, str]: Training and validation data.\n",
        "    \"\"\"\n",
        "    if val_size <= 0 or val_size >= 1:\n",
        "        raise ValueError(f\"Invalid validation size: {val_size}\")\n",
        "    ################################################################################\n",
        "    # TODO:                                                                        #\n",
        "    # Split the data into training and validation sets.                            #\n",
        "    ################################################################################\n",
        "    # *****START OF YOUR CODE (DO NOT DELETE/MODIFY THIS LINE)*****\n",
        "    split = int(len(_names) * (1- val_size))\n",
        "    train_text = _names[:split]\n",
        "    val_text = _names[split:]\n",
        "    # *****END OF YOUR CODE (DO NOT DELETE/MODIFY THIS LINE)*****\n",
        "    return train_text, val_text"
      ],
      "id": "7d442ad0a2d2a836",
      "outputs": [],
      "execution_count": 13
    },
    {
      "metadata": {
        "id": "fd12c70f91c99915",
        "outputId": "cd2e9a6f-6d1f-4c53-dd5a-3a64cc4b71b3",
        "colab": {
          "base_uri": "https://localhost:8080/"
        }
      },
      "cell_type": "code",
      "source": [
        "train_names, val_names = split_names(names, config.val_size)\n",
        "print(f\"Training set size: {len(train_names)}\")\n",
        "print(f\"Validation set size: {len(val_names)}\")"
      ],
      "id": "fd12c70f91c99915",
      "outputs": [
        {
          "output_type": "stream",
          "name": "stdout",
          "text": [
            "Training set size: 28829\n",
            "Validation set size: 3204\n"
          ]
        }
      ],
      "execution_count": 14
    },
    {
      "metadata": {
        "id": "6d20c3c432239094"
      },
      "cell_type": "code",
      "source": [
        "def prepare_dataset(_names):\n",
        "    inputs, targets = [], []\n",
        "\n",
        "    for name in _names:\n",
        "        context = [0] * config.context_size\n",
        "\n",
        "        for char in name + \".\":\n",
        "            idx = str2idx[char]\n",
        "            inputs.append(context)\n",
        "            targets.append(idx)\n",
        "            context = context[1:] + [idx]  # Shift the context by 1 character\n",
        "\n",
        "    inputs = torch.tensor(inputs)\n",
        "    targets = torch.tensor(targets)\n",
        "\n",
        "    return inputs, targets"
      ],
      "id": "6d20c3c432239094",
      "outputs": [],
      "execution_count": 15
    },
    {
      "metadata": {
        "id": "753ed8355d96dd30"
      },
      "cell_type": "code",
      "source": [
        "train_inputs, train_targets = prepare_dataset(train_names)\n",
        "val_inputs, val_targets = prepare_dataset(val_names)"
      ],
      "id": "753ed8355d96dd30",
      "outputs": [],
      "execution_count": 16
    },
    {
      "metadata": {
        "id": "3afb919d68490621"
      },
      "cell_type": "markdown",
      "source": [
        "## Model"
      ],
      "id": "3afb919d68490621"
    },
    {
      "metadata": {
        "id": "3b30b401056e9d88"
      },
      "cell_type": "markdown",
      "source": [
        "### Task 2: `nn.Module`.\n",
        "\n",
        "PyTorch provides a module called `nn.Module` for defining models. Instead of defining every layer as a separate tensor, we can wrap it all up in a class. This provides better organization and encapsulation.\n",
        "\n",
        "[PyTorch Documentation](https://pytorch.org/docs/stable/generated/torch.nn.Module.html)\n",
        "\n",
        "Implement a class `MLP` that inherits from `nn.Module`.\n",
        "(Hint: You can use `nn.Embedding` and `nn.Linear`)\n"
      ],
      "id": "3b30b401056e9d88"
    },
    {
      "metadata": {
        "id": "a56fae6095a01da9"
      },
      "cell_type": "code",
      "source": [
        "class MLP(nn.Module):\n",
        "    ################################################################################\n",
        "    # TODO:                                                                        #\n",
        "    # Define the __init__ and forward methods for the MLP model.                   #\n",
        "    ################################################################################\n",
        "    # *****START OF YOUR CODE (DO NOT DELETE/MODIFY THIS LINE)*****\n",
        "    def __init__(self, vocab_size, context_size, d_embed, d_hidden):\n",
        "        super(MLP, self).__init__()\n",
        "        self.embedding = nn.Embedding(vocab_size, d_embed)\n",
        "        self.fc1 = nn.Linear(d_embed * context_size, d_hidden)\n",
        "        self.fc2 = nn.Linear(d_hidden, vocab_size)\n",
        "\n",
        "    def forward(self, x):\n",
        "        x = self.embedding(x)\n",
        "        x = x.view(x.size(0), -1)\n",
        "        h = F.tanh(self.fc1(x))\n",
        "        logits = self.fc2(h)\n",
        "        return logits\n",
        "    # *****END OF YOUR CODE (DO NOT DELETE/MODIFY THIS LINE)*****\n",
        "    # Note: do not include softmax in the forward pass since it is already included in the loss function."
      ],
      "id": "a56fae6095a01da9",
      "outputs": [],
      "execution_count": 17
    },
    {
      "metadata": {
        "id": "1145b4db700ccaf5",
        "outputId": "9870d2db-472b-4ce3-c8b5-38e71017f212",
        "colab": {
          "base_uri": "https://localhost:8080/"
        }
      },
      "cell_type": "code",
      "source": [
        "# Initialize the model\n",
        "mlp = MLP(config.vocab_size, config.context_size, config.d_embed, config.d_hidden)\n",
        "mlp.to(config.device) # Move the model to the device\n",
        "print(mlp)\n",
        "print(\"Number of parameters:\", sum(p.numel() for p in mlp.parameters()))\n",
        "\n",
        "# Example forward pass\n",
        "example_input = train_inputs[:2]\n",
        "example_input = example_input.to(config.device)  # Move the data to the device\n",
        "print(f\"Input shape: {example_input.shape}\")\n",
        "print(f\"Output shape: {mlp(example_input).shape}\")"
      ],
      "id": "1145b4db700ccaf5",
      "outputs": [
        {
          "output_type": "stream",
          "name": "stdout",
          "text": [
            "MLP(\n",
            "  (embedding): Embedding(27, 16)\n",
            "  (fc1): Linear(in_features=48, out_features=64, bias=True)\n",
            "  (fc2): Linear(in_features=64, out_features=27, bias=True)\n",
            ")\n",
            "Number of parameters: 5323\n",
            "Input shape: torch.Size([2, 3])\n",
            "Output shape: torch.Size([2, 27])\n"
          ]
        }
      ],
      "execution_count": 18
    },
    {
      "metadata": {
        "id": "424042449c0aa770"
      },
      "cell_type": "markdown",
      "source": [
        "## Training"
      ],
      "id": "424042449c0aa770"
    },
    {
      "metadata": {
        "id": "97b460fa44e187b3"
      },
      "cell_type": "markdown",
      "source": [
        "### Task 3: Training loop.\n",
        "\n",
        "Implement the training loop for the model.\n",
        "\n",
        "What is an optimizer? [PyTorch Documentation](https://pytorch.org/docs/stable/optim.html)"
      ],
      "id": "97b460fa44e187b3"
    },
    {
      "cell_type": "code",
      "source": [
        "import torch.optim as optim"
      ],
      "metadata": {
        "id": "wwQL0LW-ydh2"
      },
      "id": "wwQL0LW-ydh2",
      "execution_count": 23,
      "outputs": []
    },
    {
      "metadata": {
        "id": "34c5737ae1ca96d3"
      },
      "cell_type": "code",
      "source": [
        "def train(model):\n",
        "    steps = []\n",
        "    train_losses = []\n",
        "    val_losses = []\n",
        "\n",
        "    # Define the optimizer\n",
        "    ################################################################################\n",
        "    # TODO:                                                                        #\n",
        "    # Define the optimizer for the model.                                          #\n",
        "    # Use stochastic gradient descent (SGD) with the learning rate from the config.#\n",
        "    ################################################################################\n",
        "    # *****START OF YOUR CODE (DO NOT DELETE/MODIFY THIS LINE)*****\n",
        "    optimizer = optim.SGD(model.parameters(), lr=config.lr)\n",
        "    # *****END OF YOUR CODE (DO NOT DELETE/MODIFY THIS LINE)*****\n",
        "\n",
        "    for step in range(1, config.max_steps + 1):\n",
        "        # Training\n",
        "        # Sample batch\n",
        "        idx = torch.randperm(len(train_inputs))[:config.batch_size]\n",
        "        x, y = train_inputs[idx], train_targets[idx]\n",
        "        x, y = x.to(config.device), y.to(config.device)  # Move the data to the device\n",
        "\n",
        "        ################################################################################\n",
        "        # TODO:                                                                        #\n",
        "        # Implement the forward pass and the backward pass                             #\n",
        "        ################################################################################\n",
        "        # *****START OF YOUR CODE (DO NOT DELETE/MODIFY THIS LINE)*****\n",
        "        # Forward pass\n",
        "        logits = model(x)\n",
        "        loss = F.cross_entropy(logits, y)\n",
        "\n",
        "        # Backward pass\n",
        "        optimizer.zero_grad()\n",
        "        loss.backward()\n",
        "        optimizer.step()\n",
        "        # *****END OF YOUR CODE (DO NOT DELETE/MODIFY THIS LINE)*****\n",
        "\n",
        "        # Validation\n",
        "        if step % config.val_interval == 0:\n",
        "            # Validation loss\n",
        "            with torch.no_grad():\n",
        "                val_logits = model(val_inputs.to(config.device))\n",
        "                val_loss = F.cross_entropy(val_logits, val_targets.to(config.device)).item()\n",
        "                val_losses.append(val_loss)\n",
        "\n",
        "        # Logging\n",
        "        steps.append(step)\n",
        "        train_losses.append(loss.item())\n",
        "        if step % config.val_interval == 0:\n",
        "            print(f\"Step {step}: Train Loss = {loss.item():.4f}, Val Loss = {val_loss:.4f}\")\n",
        "\n",
        "    # Plot the loss\n",
        "    plt.figure()\n",
        "    plt.plot(steps, train_losses, label=\"Train\")\n",
        "    plt.plot(steps[::config.val_interval], val_losses, label=\"Validation\")\n",
        "    plt.xlabel(\"Steps\")\n",
        "    plt.ylabel(\"Loss\")\n",
        "    plt.legend()\n",
        "    plt.show()"
      ],
      "id": "34c5737ae1ca96d3",
      "outputs": [],
      "execution_count": 24
    },
    {
      "metadata": {
        "id": "88b77b52fc6bd791",
        "outputId": "b5f5ce4a-b2cf-4736-e279-8d7297a74aec",
        "colab": {
          "base_uri": "https://localhost:8080/",
          "height": 633
        }
      },
      "cell_type": "code",
      "source": [
        "train(mlp)"
      ],
      "id": "88b77b52fc6bd791",
      "outputs": [
        {
          "output_type": "stream",
          "name": "stdout",
          "text": [
            "Step 1000: Train Loss = 3.0203, Val Loss = 3.0474\n",
            "Step 2000: Train Loss = 2.9949, Val Loss = 2.8971\n",
            "Step 3000: Train Loss = 2.6932, Val Loss = 2.8192\n",
            "Step 4000: Train Loss = 2.5007, Val Loss = 2.7716\n",
            "Step 5000: Train Loss = 2.5786, Val Loss = 2.7398\n",
            "Step 6000: Train Loss = 2.7356, Val Loss = 2.7169\n",
            "Step 7000: Train Loss = 2.2883, Val Loss = 2.6981\n",
            "Step 8000: Train Loss = 2.7590, Val Loss = 2.6811\n",
            "Step 9000: Train Loss = 2.4707, Val Loss = 2.6670\n",
            "Step 10000: Train Loss = 2.2863, Val Loss = 2.6545\n"
          ]
        },
        {
          "output_type": "display_data",
          "data": {
            "text/plain": [
              "<Figure size 640x480 with 1 Axes>"
            ],
            "image/png": "[encoded data removed]"
          },
          "metadata": {}
        }
      ],
      "execution_count": 25
    },
    {
      "metadata": {
        "id": "5d2880695e69f27e"
      },
      "cell_type": "markdown",
      "source": [
        "## Inference"
      ],
      "id": "5d2880695e69f27e"
    },
    {
      "metadata": {
        "id": "254cfa9b9167cecd"
      },
      "cell_type": "code",
      "source": [
        "def generate_name():\n",
        "    new_name = []\n",
        "    context = [0] * config.context_size\n",
        "\n",
        "    while True:\n",
        "        # forward pass\n",
        "        x = torch.tensor(context).unsqueeze(0).to(config.device)\n",
        "        logits = mlp(x)\n",
        "\n",
        "        # sample\n",
        "        probs = F.softmax(logits, dim=-1)\n",
        "        idx = torch.multinomial(probs, num_samples=1).item()\n",
        "\n",
        "        # update context\n",
        "        new_name.append(idx2str[idx])\n",
        "        context = context[1:] + [idx]\n",
        "\n",
        "        # break if \".\"\n",
        "        if idx == 0:\n",
        "            break\n",
        "\n",
        "    return \"\".join(new_name)"
      ],
      "id": "254cfa9b9167cecd",
      "outputs": [],
      "execution_count": 26
    },
    {
      "metadata": {
        "id": "18536bfec99f36ba",
        "outputId": "9fe9957b-baad-4de5-fa64-28328ea8fa80",
        "colab": {
          "base_uri": "https://localhost:8080/"
        }
      },
      "cell_type": "code",
      "source": [
        "for _ in range(5):\n",
        "    print(generate_name())"
      ],
      "id": "18536bfec99f36ba",
      "outputs": [
        {
          "output_type": "stream",
          "name": "stdout",
          "text": [
            "elre.\n",
            "ffkmea.\n",
            "roe.\n",
            "nasiayle.\n",
            "ula.\n"
          ]
        }
      ],
      "execution_count": 27
    },
    {
      "metadata": {
        "id": "5672f33432bc5671"
      },
      "cell_type": "markdown",
      "source": [
        "## Extra Credit\n",
        "\n",
        "Change the model configuration and hyperparameters to achieve the following:\n",
        "\n",
        "Generate good-looking names and get the lowest **validation loss** as possible.\n",
        "\n",
        "Rules:\n",
        "- Do not change the random seed.\n",
        "- Do not change the validation set size.\n",
        "- External data is not allowed."
      ],
      "id": "5672f33432bc5671"
    }
  ],
  "metadata": {
    "kernelspec": {
      "display_name": "Python 3",
      "language": "python",
      "name": "python3"
    },
    "language_info": {
      "codemirror_mode": {
        "name": "ipython",
        "version": 2
      },
      "file_extension": ".py",
      "mimetype": "text/x-python",
      "name": "python",
      "nbconvert_exporter": "python",
      "pygments_lexer": "ipython2",
      "version": "2.7.6"
    },
    "colab": {
      "provenance": []
    }
  },
  "nbformat": 4,
  "nbformat_minor": 5
}